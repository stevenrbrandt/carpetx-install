{
 "cells": [
  {
   "cell_type": "markdown",
   "metadata": {},
   "source": [
    "# Shock tube test\n",
    "\n",
    "This notebook runs a shock-tube test with AsterX, and visualizes the data saved in OpenPMD format. \n",
    "\n",
    "\n",
    "### Test setup\n",
    "This is a generic shock-tube test without magnetic fields, where the shock propagates along x-direction. The hydrodynamic portion of the initial conditions are the same as for the Balsara 1 shock tube problem. Here, the right and left states along x are initalized to different values.\n",
    "\n",
    "- Left state is initialized as ($\\rho, v^x, v^y, v^z, P$) = [1,0,0,1], and the right state as [0.125,0,0,0.1]. \n",
    "\n",
    "- For the ideal gas EOS, we consider $\\gamma = 2$. \n",
    "\n",
    "- Initial data is set using the thorn ```HydroInitial```.\n",
    "\n",
    "- Grid domain is $[-0.5,+0.5]$ along x, with 200 grid-cells.\n",
    "\n",
    "- Flat boundary conditions are employed in all directions.\n",
    "\n",
    "This gives the initial contact discontinuity at $x=0.0$.\n"
   ]
  },
  {
   "cell_type": "markdown",
   "metadata": {},
   "source": [
    "## 1. Steps to perform the simulation"
   ]
  },
  {
   "cell_type": "markdown",
   "metadata": {},
   "source": [
    "First, let's first move to the Cactus folder:"
   ]
  },
  {
   "cell_type": "code",
   "execution_count": null,
   "metadata": {},
   "outputs": [],
   "source": [
    "cd ~/Cactus"
   ]
  },
  {
   "cell_type": "markdown",
   "metadata": {},
   "source": [
    "Now, let's create the parameter file to be used for this simulation:"
   ]
  },
  {
   "cell_type": "code",
   "execution_count": null,
   "metadata": {},
   "outputs": [],
   "source": [
    "%%bash\n",
    "cat >./par/shocktube.par <<\"#EOF\"\n",
    "\n",
    "ActiveThorns = \"\n",
    "    ADIOS2\n",
    "    ADMBase\n",
    "    AsterX\n",
    "    CarpetX\n",
    "    HydroBase\n",
    "    HydroInitial\n",
    "    IOUtil\n",
    "    ODESolvers\n",
    "    SystemTopology\n",
    "    TimerReport\n",
    "    TmunuBase\n",
    "    openPMD\n",
    "\"\n",
    "\n",
    "$nlevels = 1\n",
    "$ncells = 200\n",
    "\n",
    "Cactus::cctk_show_schedule = yes\n",
    "\n",
    "Cactus::presync_mode = \"mixed-error\"\n",
    "\n",
    "Cactus::terminate = \"time\"\n",
    "Cactus::cctk_final_time = 0.40\n",
    "\n",
    "ADMBase::set_adm_variables_during_evolution = \"yes\"\n",
    "ADMBase::initial_data            = \"Cartesian Minkowski\"\n",
    "ADMBase::initial_lapse           = \"one\"\n",
    "ADMBase::initial_shift           = \"zero\"\n",
    "ADMBase::initial_dtlapse         = \"none\"\n",
    "ADMBase::initial_dtshift         = \"none\"\n",
    "\n",
    "CarpetX::verbose = no\n",
    "\n",
    "CarpetX::xmin = -0.5\n",
    "CarpetX::ymin = -0.5 * 2 / $ncells\n",
    "CarpetX::zmin = -0.5 * 2 / $ncells\n",
    "\n",
    "CarpetX::xmax = +0.5\n",
    "CarpetX::ymax = +0.5 * 2 / $ncells\n",
    "CarpetX::zmax = +0.5 * 2 / $ncells\n",
    "\n",
    "#flat bc\n",
    "CarpetX::von_neumann_x =  yes\n",
    "CarpetX::von_neumann_y =  yes\n",
    "CarpetX::von_neumann_z =  yes\n",
    "CarpetX::von_neumann_upper_x =  yes\n",
    "CarpetX::von_neumann_upper_y =  yes\n",
    "CarpetX::von_neumann_upper_z =  yes\n",
    "\n",
    "\n",
    "CarpetX::ncells_x = $ncells\n",
    "CarpetX::ncells_y = 2\n",
    "CarpetX::ncells_z = 2\n",
    "\n",
    "CarpetX::max_num_levels = $nlevels\n",
    "CarpetX::regrid_every = 1000\n",
    "CarpetX::blocking_factor_x = 1\n",
    "CarpetX::blocking_factor_y = 1\n",
    "CarpetX::blocking_factor_z = 1\n",
    "CarpetX::regrid_error_threshold = 0.01\n",
    "\n",
    "CarpetX::prolongation_type = \"ddf\"\n",
    "CarpetX::ghost_size = 2\n",
    "CarpetX::dtfac = 0.25\n",
    "\n",
    "HydroBase::initial_hydro = \"balsara1\"\n",
    "HydroInitial::gamma = 2.0\n",
    "AsterX::gamma = 2.0\n",
    "AsterX::reconstruction_method = \"minmod\"\n",
    "AsterX::max_iter = 100\n",
    "\n",
    "ODESolvers::method = \"RK4\"\n",
    "\n",
    "IO::out_dir = $parfile\n",
    "IO::out_every = 10 \n",
    "\n",
    "CarpetX::out_openpmd_vars = \"\n",
    "    HydroBase::rho\n",
    "    HydroBase::vel\n",
    "    HydroBase::eps\n",
    "    HydroBase::press\n",
    "    CarpetX::regrid_error\n",
    "\"\n",
    "\n",
    "TimerReport::out_every = 100 \n",
    "TimerReport::out_filename = \"TimerReport\"\n",
    "TimerReport::output_all_timers_together = yes\n",
    "TimerReport::output_all_timers_readable = yes\n",
    "TimerReport::n_top_timers = 50\n",
    "\n",
    "#EOF"
   ]
  },
  {
   "cell_type": "markdown",
   "metadata": {},
   "source": [
    "Then, submit the simulation using the following command:"
   ]
  },
  {
   "cell_type": "code",
   "execution_count": null,
   "metadata": {},
   "outputs": [],
   "source": [
    "!./simfactory/bin/sim submit shocktube --parfile=./par/shocktube.par --config=sim-gpu --procs=1 --walltime=00:20:00"
   ]
  },
  {
   "cell_type": "markdown",
   "metadata": {},
   "source": [
    "The above command creates and runs the simulation ```shocktube```, using the configuration ```sim-gpu```. The data is saved in the directory ```./simulations/shocktube```.\n",
    "\n"
   ]
  },
  {
   "cell_type": "code",
   "execution_count": null,
   "metadata": {},
   "outputs": [],
   "source": [
    "# watch log output, following along as new output is produced\n",
    "!./simfactory/bin/sim show-output --follow shocktube"
   ]
  },
  {
   "cell_type": "markdown",
   "metadata": {},
   "source": [
    "## 2. Steps to visualize simulation data\n",
    "\n",
    "The 2D data can be saved in both Silo format (which can be visualised, for instance, via VisIt) and in OpenPMD format. \n",
    "\n",
    "For further info on Silo, please visit: https://wci.llnl.gov/simulation/computer-codes/silo\n",
    "\n",
    "For further info about OpenPMD, please visit:\n",
    "\n",
    "- Official website:  https://www.openpmd.org\n",
    "- GitHub repository: https://github.com/openPMD\n",
    "- Documentation:     https://openpmd-api.readthedocs.io"
   ]
  },
  {
   "cell_type": "markdown",
   "metadata": {},
   "source": [
    "Now, let's go back to the home directory:"
   ]
  },
  {
   "cell_type": "code",
   "execution_count": null,
   "metadata": {},
   "outputs": [],
   "source": [
    "cd ~/"
   ]
  },
  {
   "cell_type": "markdown",
   "metadata": {},
   "source": [
    "Import all the required modules:"
   ]
  },
  {
   "cell_type": "code",
   "execution_count": null,
   "metadata": {},
   "outputs": [],
   "source": [
    "import numpy as np\n",
    "from matplotlib import pyplot as plt\n",
    "from celluloid import Camera\n",
    "import openpmd_api as io"
   ]
  },
  {
   "cell_type": "markdown",
   "metadata": {},
   "source": [
    "Set the Matplotlib backend to `notebook`, not `inline`, since we'll want to animate some figures and the latter is not compatible with that"
   ]
  },
  {
   "cell_type": "code",
   "execution_count": null,
   "metadata": {},
   "outputs": [],
   "source": [
    "%matplotlib notebook"
   ]
  },
  {
   "cell_type": "markdown",
   "metadata": {},
   "source": [
    "Open a .bp file (ADIOS2 extension) as an OpenPMD **'series'**, which is a collection of **'iterations'**, each of which contains **'records'**, which are sets of either structured data --- **'meshes'** --- or unstructured data --- **'particles'**. \n",
    "\n",
    "AsterX only outputs mesh data. Each record has one or more **'components'**: for example, a record representing a scalar field only has one component, while a record representing a vector field has three."
   ]
  },
  {
   "cell_type": "code",
   "execution_count": null,
   "metadata": {},
   "outputs": [],
   "source": [
    "series = io.Series(\"./simulations/shocktube/output-0000/shocktube/shocktube.it%08T.bp\", io.Access.read_only)"
   ]
  },
  {
   "cell_type": "markdown",
   "metadata": {},
   "source": [
    "All iterations in our series have the same structure, i.e., they contain\n",
    "the same records, since they all represent the same output, just at\n",
    "different times. \n",
    "\n",
    "Here we define an empty Python nested dictionary whose\n",
    "structure, once full, will be:\n",
    "\n",
    "Iteration 0:\n",
    "- Record 1:\n",
    "  - Component 1: 3D data array\n",
    "  - Component 2: 3D data array\n",
    "  - Component 3: 3D data array\n",
    "- Record 2:\n",
    "  - Component 1: 3D data array\n",
    "  - Component 2: 3D data array\n",
    "  - Component 3: 3D data array\n",
    "  \n",
    " [...]\n",
    "\n",
    "Iteration 1:\n",
    "- Record 1:\n",
    "  - Component 1: 3D data array\n",
    "  - Component 2: 3D data array\n",
    "  - Component 3: 3D data array\n",
    "- Record 2:\n",
    "  - Component 1: 3D data array\n",
    "  - Component 2: 3D data array\n",
    "  - Component 3: 3D data array\n",
    "  \n",
    " [...]\n",
    "\n",
    "[...]"
   ]
  },
  {
   "cell_type": "code",
   "execution_count": null,
   "metadata": {},
   "outputs": [],
   "source": [
    "iter_rec_comp_dict = {}"
   ]
  },
  {
   "cell_type": "markdown",
   "metadata": {},
   "source": [
    "Print info, register data chunks and fill the above dictionary:"
   ]
  },
  {
   "cell_type": "code",
   "execution_count": null,
   "metadata": {},
   "outputs": [],
   "source": [
    "for index in series.iterations:\n",
    "    iteration = str(index)\n",
    "\n",
    "    print(\"\\nIteration \" + iteration + \":\")\n",
    "    print(\"==============\")\n",
    "\n",
    "    # Allocate an empty dictionary associated to this iteration\n",
    "    iter_rec_comp_dict[iteration] = {}\n",
    "\n",
    "    i = series.iterations[index]\n",
    "\n",
    "    for key in i.meshes:\n",
    "        print(\"Components of record \\\"\" + key + \"\\\":\")\n",
    "\n",
    "        # Allocate an empty dictionary associated to this record. Notice that\n",
    "        # 'record' is an OpenPMD mesh object, so it's better to use 'key'\n",
    "        # instead of 'record' as a key in the dictionary ('record' could also be\n",
    "        # used, but it makes accessing the key clumsy).\n",
    "        record = i.meshes[key]\n",
    "        iter_rec_comp_dict[iteration][key] = {}\n",
    "\n",
    "        # Load each component of each record as a 'data chunk', i.e., an\n",
    "        # allocated, but STILL INVALID, NumPy array. Later we will flush all\n",
    "        # chunks (i.e., basically, fill the NumPy arrays) at once: this leads\n",
    "        # to better I/O performance compared to flushing a large number of\n",
    "        # small chunks. That's why we bothered creating the nested dictionary:\n",
    "        # in this way, we can access the valid NumPy arrays for plotting\n",
    "        # without having to flush each single chunk.\n",
    "        # *IMPORTANT*: DO NOT access data chunks until flushing has happened!\n",
    "        for component in record:\n",
    "            print(\"    > \" + component)  # 'component' is a string\n",
    "            iter_rec_comp_dict[iteration][key][component] = record[component].load_chunk()  # *INVALID* 3D NumPy array\n",
    "\n",
    "        print(\"\")"
   ]
  },
  {
   "cell_type": "markdown",
   "metadata": {},
   "source": [
    "Flush all registered data chunks, which are now **VALID** 3D NumPy arrays:"
   ]
  },
  {
   "cell_type": "code",
   "execution_count": null,
   "metadata": {},
   "outputs": [],
   "source": [
    "series.flush()"
   ]
  },
  {
   "cell_type": "markdown",
   "metadata": {},
   "source": [
    "Visualize a 2D movie of the mass density on the xz plane:"
   ]
  },
  {
   "cell_type": "code",
   "execution_count": null,
   "metadata": {
    "scrolled": true
   },
   "outputs": [],
   "source": [
    "# Select the desired record and component to plot\n",
    "record    = \"hydrobase_rho_rl00\"  # \"carpetx_regrid_error_rl00\", \"hydrobase_eps_rl00\", \"hydrobase_press_rl00\", \"hydrobase_rho_rl00\", \"hydrobase_vel_rl00\"\n",
    "component = \"hydrobase_rho\"  # \"carpetx_regrid_error\", \"hydrobase_eps\", \"hydrobase_press\", \"hydrobase_rho\", \"hydrobase_velx\", \"hydrobase_vely\", \"hydrobase_velz\"\n",
    "\n",
    "# Set up the axes for the plot and the colorbar\n",
    "fig    = plt.figure(figsize = [5.0, 2.75])\n",
    "axplot = fig.add_axes([0.12, 0.14, 0.75, 0.75])\n",
    "axclb  = fig.add_axes([0.88, 0.14, 0.02, 0.75])\n",
    "\n",
    "# Set title and labels\n",
    "axplot.set_title(\"Rest-mass density\", fontsize = 10., fontweight = \"bold\", color = \"midnightblue\")\n",
    "axplot.set_xlabel(\"x\", fontsize = 7.)\n",
    "axplot.set_ylabel(\"z\", fontsize = 7.)\n",
    "axplot.tick_params(labelsize=7)\n",
    "axplot.xaxis.set_major_locator(plt.MaxNLocator(5))\n",
    "axplot.yaxis.set_major_locator(plt.MaxNLocator(5))\n",
    "\n",
    "\n",
    "# Initialize the camera\n",
    "camera = Camera(fig)\n",
    "\n",
    "# Print frames\n",
    "for iteration in iter_rec_comp_dict:\n",
    "    # Retrieve the 3D array containing the data\n",
    "    array3D = iter_rec_comp_dict[iteration][record][component]\n",
    "    \n",
    "    # Plot on the (x, z) plane at the half-way value of y\n",
    "    # Notice that the 3D array is stored in (z, y, x) order\n",
    "    y_index = int(array3D.shape[1]/2)\n",
    "    x0     = np.linspace(-0.5, 0.5, array3D.shape[2])\n",
    "    z0     = np.linspace(-0.04, 0.04, array3D.shape[0])\n",
    "    image   = axplot.pcolormesh(x0, z0, array3D[:, y_index, :],\n",
    "                                cmap = \"magma\", vmin = 0.0, vmax = 1.0)\n",
    "    axplot.set_ylim(ymin=-0.005, ymax=0.005)\n",
    "    # Set up the colorbar\n",
    "    axclb.tick_params(labelsize=7.0)\n",
    "    fig.colorbar(image, cax = axclb, extend = \"neither\")\n",
    "    \n",
    "    # Print the current iteration\n",
    "    axplot.text(0.18, 0.42, \"Iteration \" + iteration,\n",
    "             fontsize = 8., fontweight = \"bold\", color = \"white\")\n",
    "\n",
    "    # Take a snapshot of the figure at this iteration (needed later for the animation)\n",
    "    camera.snap()"
   ]
  },
  {
   "cell_type": "code",
   "execution_count": null,
   "metadata": {},
   "outputs": [],
   "source": [
    "from IPython.display import HTML\n",
    "animation = camera.animate()\n",
    "HTML(animation.to_html5_video())"
   ]
  }
 ],
 "metadata": {
  "kernelspec": {
   "display_name": "Python 3",
   "language": "python",
   "name": "python3"
  },
  "language_info": {
   "codemirror_mode": {
    "name": "ipython",
    "version": 3
   },
   "file_extension": ".py",
   "mimetype": "text/x-python",
   "name": "python",
   "nbconvert_exporter": "python",
   "pygments_lexer": "ipython3",
   "version": "3.8.5"
  }
 },
 "nbformat": 4,
 "nbformat_minor": 5
}
