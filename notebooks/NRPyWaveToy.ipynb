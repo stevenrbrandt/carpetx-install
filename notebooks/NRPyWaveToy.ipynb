{
 "cells": [
  {
   "cell_type": "code",
   "execution_count": null,
   "id": "c66df856",
   "metadata": {},
   "outputs": [],
   "source": [
    "#Setup the notebook...\n",
    "\n",
    "# this allows you to use \"cd\" in cells to change directories instead of requiring \"%cd\"\n",
    "%automagic on\n",
    "\n",
    "# override IPython's default %%bash to not buffer all output\n",
    "from IPython.core.magic import register_cell_magic\n",
    "@register_cell_magic\n",
    "def bash(line, cell): get_ipython().system(cell)\n",
    "    \n",
    "# Scroll to bottom when there's long output\n",
    "import scrolldown\n",
    "\n",
    "# Make sure the USER variable is set correctly\n",
    "import pwd\n",
    "import os"
   ]
  },
  {
   "cell_type": "code",
   "execution_count": null,
   "id": "2a555ba0",
   "metadata": {},
   "outputs": [],
   "source": [
    "cd ~/"
   ]
  },
  {
   "cell_type": "code",
   "execution_count": null,
   "id": "9b06fceb",
   "metadata": {},
   "outputs": [],
   "source": [
    "# Check out the latest version of my fork of NRPy\n",
    "import os\n",
    "if os.path.exists(\"nrpytutorial\"):\n",
    "    !cd nrpytutorial && git pull\n",
    "else:\n",
    "    !git clone https://github.com/stevenrbrandt/nrpytutorial.git"
   ]
  },
  {
   "cell_type": "code",
   "execution_count": null,
   "id": "5477b883",
   "metadata": {},
   "outputs": [],
   "source": [
    "cd ~/nrpytutorial"
   ]
  },
  {
   "cell_type": "code",
   "execution_count": null,
   "id": "b5a53ed4",
   "metadata": {},
   "outputs": [],
   "source": [
    "import os\n",
    "import grid\n",
    "from cactusthorn import CactusThorn\n",
    "from sympy import sympify, cos, pi\n",
    "\n",
    "# What kind of driver will this thorn use?\n",
    "# Current options are Carpet and CarpetX\n",
    "grid.ET_driver = \"CarpetX\""
   ]
  },
  {
   "cell_type": "code",
   "execution_count": null,
   "id": "0739e898",
   "metadata": {},
   "outputs": [],
   "source": [
    "# Supply an arrangement name and thorn name.\n",
    "thorn = CactusThorn(\"TestOne\",\"WaveToyNRPy\")"
   ]
  },
  {
   "cell_type": "code",
   "execution_count": null,
   "id": "f9cfd36e",
   "metadata": {},
   "outputs": [],
   "source": [
    "# Declare runtime parameters and their defaults.\n",
    "# For this example we will need a wave speed, as\n",
    "# well as the position for the peak of our \n",
    "# initial data pulse.\n",
    "\n",
    "wave_speed = thorn.declare_param('wave_speed',\n",
    "                                 default=1,\n",
    "                                 vmin=.1,\n",
    "                                 vmax=100,\n",
    "                                 doc=\"The speed of the wave\")\n",
    "\n",
    "x0 = thorn.declare_param('x0',\n",
    "                         default=0,\n",
    "                         vmin=-100,\n",
    "                         vmax=100,\n",
    "                         doc=\"The x pos of the wave\")\n",
    "\n",
    "y0 = thorn.declare_param('y0',\n",
    "                         default=0,\n",
    "                         vmin=-100,\n",
    "                         vmax=100,\n",
    "                         doc=\"The y pos of the wave\")"
   ]
  },
  {
   "cell_type": "code",
   "execution_count": null,
   "id": "6d05dc15",
   "metadata": {},
   "outputs": [],
   "source": [
    "# Declare the rhs variables corresponding to the variables we are evolving\n",
    "# Note that the naming convention xxx_rhs is understood by the framework.\n",
    "uu_rhs, vv_rhs = thorn.register_gridfunctions(\"AUX\", [\"uu_rhs\", \"vv_rhs\"], centering=\"CCC\")\n",
    "\n",
    "# Declare the grid functions we want to evolve\n",
    "uu, vv = thorn.register_gridfunctions(\"EVOL\", [\"uu\", \"vv\"], centering=\"CCC\")\n",
    "\n",
    "# Get the coordinates. This is done differently in Carpet and CarpetX.\n",
    "# The framework will do the correct thing for both drivers.\n",
    "x,y,z = thorn.get_xyz()"
   ]
  },
  {
   "cell_type": "code",
   "execution_count": null,
   "id": "a46f3f15",
   "metadata": {},
   "outputs": [],
   "source": [
    "from outputC import lhrh\n",
    "import indexedexp as ixp\n",
    "\n",
    "# _dDD describes a second derivative\n",
    "# uu_dDD[0][0] is the second derivative of uu with respect to x\n",
    "# The point is that we treat derivatives as symbols and don't\n",
    "# worry about how they are implemented.\n",
    "uu_dDD = ixp.declarerank2(\"uu_dDD\",\"sym01\")\n",
    "uu_dD = ixp.declarerank1(\"uu_dD\")\n",
    "\n",
    "# The differential equations representing the wave equation\n",
    "evol_eqns = [\n",
    "    lhrh(lhs=uu_rhs, rhs=vv),\n",
    "    lhrh(lhs=vv_rhs, rhs=wave_speed**2*(uu_dDD[0][0] + uu_dDD[1][1]))\n",
    "]"
   ]
  },
  {
   "cell_type": "code",
   "execution_count": null,
   "id": "d57525eb",
   "metadata": {},
   "outputs": [],
   "source": [
    "# Note that we can't just use constants with sympy unless we sympify them.\n",
    "k = sympify(pi/20)\n",
    "\n",
    "init_eqns = [\n",
    "    lhrh(lhs=vv, rhs=sympify(0)),\n",
    "    lhrh(lhs=uu, rhs=cos(k*(x-x0))**2*cos(k*(y-y0))**2),\n",
    "]"
   ]
  },
  {
   "cell_type": "code",
   "execution_count": null,
   "id": "83c37745",
   "metadata": {},
   "outputs": [],
   "source": [
    "import NRPy_param_funcs as par\n",
    "\n",
    "FD_order = 4\n",
    "par.set_parval_from_str(\"finite_difference::FD_CENTDERIVS_ORDER\",FD_order)"
   ]
  },
  {
   "cell_type": "code",
   "execution_count": null,
   "id": "106fb37a",
   "metadata": {
    "scrolled": true
   },
   "outputs": [],
   "source": [
    "# Actually create the functions\n",
    "\n",
    "# These can be evaluated everywhere since\n",
    "# they are simply functions of x and y\n",
    "thorn.add_func(\"wave_init\", \n",
    "               body=init_eqns, \n",
    "               where='everywhere',\n",
    "               schedule_bin='initial',\n",
    "               doc='Do the wave init',\n",
    "               centering='CCC')\n",
    "\n",
    "# These can only be evaluated in the\n",
    "# interior, since the rely on finite differences.\n",
    "thorn.add_func(\"wave_evol\",\n",
    "               body=evol_eqns,\n",
    "               where='interior',\n",
    "               schedule_bin='ODESolvers_RHS',\n",
    "               doc='Do the wave evol',\n",
    "               centering='CCC')"
   ]
  },
  {
   "cell_type": "code",
   "execution_count": null,
   "id": "7f0ebab5",
   "metadata": {},
   "outputs": [],
   "source": [
    "import safewrite\n",
    "\n",
    "# Files are written by cactusthorn using a utility called safewrite.\n",
    "# Safewrite will only write a file (and update its modification time)\n",
    "# if the contents of the file would actually change. If the verbose\n",
    "# flag is set, safewrite will output a diff to the screen, showing\n",
    "# what it has written.\n",
    "safewrite.verbose = False"
   ]
  },
  {
   "cell_type": "code",
   "execution_count": null,
   "id": "77cbc3ea",
   "metadata": {},
   "outputs": [],
   "source": [
    "home = os.environ[\"HOME\"]\n",
    "\n",
    "# The location of Cactus\n",
    "cactus_home = os.path.join(home,\"Cactus\")\n",
    "\n",
    "# Which config we are using, i.e. which directory\n",
    "# under Cactus/configs where we are modifying the build\n",
    "cactus_sim = \"sim-gpu\"\n",
    "\n",
    "# The thornlist we are using\n",
    "cactus_thornlist = os.path.join(home, \"carpetx.th\")\n",
    "\n",
    "# Generate the thorn, modify the thornlist as well as the\n",
    "# ThornList file under configs. Files will only be modified\n",
    "# if they are updated. If the verbose flag is set in cactusthorn,\n",
    "# A diff will print to the screen when the file changes.\n",
    "thorn.generate(cactus_home, cactus_config=cactus_sim, cactus_thornlist=cactus_thornlist)"
   ]
  },
  {
   "cell_type": "code",
   "execution_count": null,
   "id": "ba46e83f",
   "metadata": {},
   "outputs": [],
   "source": [
    "# Kick off the rebuild of Cactus\n",
    "!bash build-gpu.sh"
   ]
  },
  {
   "cell_type": "code",
   "execution_count": null,
   "id": "14fe9513",
   "metadata": {},
   "outputs": [],
   "source": [
    "%%writefile wave2d.par\n",
    "# This is the parameter file which will tell Cactus\n",
    "# which thorns to execute and with what values\n",
    "ActiveThorns = \"WaveToyNRPy CarpetX IOUtil ODESolvers\"\n",
    "\n",
    "ODESolvers::method = \"SSPRK3\"\n",
    "Cactus::presync_mode = \"mixed-error\"\n",
    "\n",
    "Cactus::terminate = \"iteration\"\n",
    "$blocksize=10\n",
    "$nblocks=20\n",
    "Cactus::cctk_itlast = $nblocks*$blocksize\n",
    "\n",
    "CarpetX::periodic_x = false\n",
    "CarpetX::periodic_y = false\n",
    "\n",
    "CarpetX::max_tile_size_x = 200\n",
    "CarpetX::max_tile_size_y = 200\n",
    "CarpetX::max_tile_size_z = 200\n",
    "CarpetX::max_grid_size_x = 500\n",
    "CarpetX::max_grid_size_y = 500\n",
    "CarpetX::max_grid_size_z = 500\n",
    "\n",
    "CarpetX::verbose = no\n",
    "CarpetX::poison_undefined_values = no\n",
    "\n",
    "CarpetX::xmin = -10.0\n",
    "CarpetX::ymin = -10.0\n",
    "CarpetX::zmin = -1.0\n",
    "\n",
    "CarpetX::xmax = 10.0\n",
    "CarpetX::ymax = 10.0\n",
    "CarpetX::zmax = 1.0\n",
    "\n",
    "CarpetX::ncells_x = 120\n",
    "CarpetX::ncells_y = 120\n",
    "CarpetX::ncells_z = 1\n",
    "\n",
    "CarpetX::blocking_factor_x = 8\n",
    "CarpetX::blocking_factor_y = 8\n",
    "CarpetX::blocking_factor_z = 1\n",
    "\n",
    "CarpetX::ghost_size_x = 2\n",
    "CarpetX::ghost_size_y = 2\n",
    "CarpetX::ghost_size_z = 0\n",
    "\n",
    "IO::out_dir = $parfile\n",
    "IO::out_every = $blocksize\n",
    "IO::out_mode = \"np\"\n",
    "IO::out_proc_every = 1\n",
    "CarpetX::out_openpmd_vars = \"all\""
   ]
  },
  {
   "cell_type": "code",
   "execution_count": null,
   "id": "9be3ce39",
   "metadata": {},
   "outputs": [],
   "source": [
    "# Run the code! Note that {cactus_home}, etc. get substituted.\n",
    "!(cd {cactus_home} && rm -fr wave2d && ./exe/cactus_{cactus_sim} {os.getcwd()}/wave2d.par)"
   ]
  },
  {
   "cell_type": "code",
   "execution_count": null,
   "id": "94ddfb51",
   "metadata": {},
   "outputs": [],
   "source": [
    "# These are the output files generated by the run\n",
    "!ls ~/Cactus/wave2d"
   ]
  },
  {
   "cell_type": "code",
   "execution_count": null,
   "id": "e44e65db",
   "metadata": {},
   "outputs": [],
   "source": [
    "%%writefile plot-data.py\n",
    "# A custom plotting function that uses openpmd to extract data\n",
    "# and generate 2d color plots\n",
    "import numpy as np\n",
    "import matplotlib\n",
    "import os\n",
    "matplotlib.use(\"Agg\")\n",
    "import matplotlib.pyplot as plt\n",
    "home = os.environ[\"HOME\"]\n",
    "out_dir = os.path.join(home,\"Cactus\",\"wave2d\")\n",
    "os.chdir(out_dir)\n",
    "import openpmd_api as io\n",
    "series = io.Series(\"wave2d.it%08T.bp\", io.Access.read_only)\n",
    "print(\"openPMD version: \", series.openPMD)\n",
    "if series.contains_attribute(\"author\"):\n",
    "    print(\"Author: \",series.author)\n",
    "for gf in [\"wavetoynrpy_uugf_rl00\"]:\n",
    "    print(gf)\n",
    "    frame = 0\n",
    "    for index in series.iterations:\n",
    "        i = series.iterations[index]\n",
    "        #for k in i.meshes:\n",
    "        #    print(k)\n",
    "        uu = i.meshes[gf]\n",
    "        data = None\n",
    "        data_index = 0\n",
    "        for k in uu:\n",
    "            data = uu[k].load_chunk()\n",
    "        series.flush()\n",
    "        print(index,data.shape,np.max(data[data_index]),np.min(data[data_index]))\n",
    "        xv = np.linspace(0,1,data[data_index].shape[0])\n",
    "        yv = np.linspace(0,1,data[data_index].shape[1])\n",
    "        x = np.zeros(data[data_index].shape)\n",
    "        y = np.zeros(data[data_index].shape)\n",
    "        for i in range(xv.shape[0]):\n",
    "            x[i,:] = xv[i]\n",
    "        for j in range(yv.shape[0]):\n",
    "            y[:,j] = yv[j]\n",
    "        plt.pcolor(x,y,data[data_index],vmin=-1,vmax=1)\n",
    "        plt.savefig(f\"{home}/wave%05d.png\" % frame)\n",
    "        frame += 1"
   ]
  },
  {
   "cell_type": "code",
   "execution_count": null,
   "id": "3699a6d5",
   "metadata": {},
   "outputs": [],
   "source": [
    "# Clear out old plot data, if any\n",
    "!rm -f ../wave*.png"
   ]
  },
  {
   "cell_type": "code",
   "execution_count": null,
   "id": "67196239",
   "metadata": {},
   "outputs": [],
   "source": [
    "# Generate the image files\n",
    "!python3 plot-data.py"
   ]
  },
  {
   "cell_type": "code",
   "execution_count": null,
   "id": "2e2e6385",
   "metadata": {},
   "outputs": [],
   "source": [
    "!(cd ~/ && ls -F wave*)"
   ]
  },
  {
   "cell_type": "code",
   "execution_count": null,
   "id": "5ae11ffb",
   "metadata": {},
   "outputs": [],
   "source": [
    "# Show the first image\n",
    "# Note that there's some noise on the side. This is an output artifiact (and a bug).\n",
    "\n",
    "from IPython.display import Image\n",
    "\n",
    "Image(\"../wave00000.png\")"
   ]
  },
  {
   "cell_type": "code",
   "execution_count": null,
   "id": "88b7e3a0",
   "metadata": {},
   "outputs": [],
   "source": [
    "# Generate a movie\n",
    "!ffmpeg -y -i ~/wave%05d.png output.gif"
   ]
  },
  {
   "cell_type": "code",
   "execution_count": null,
   "id": "277aedf0",
   "metadata": {},
   "outputs": [],
   "source": [
    "# Show the movie\n",
    "\n",
    "from IPython.display import Image\n",
    "\n",
    "Image(\"output.gif\")"
   ]
  },
  {
   "cell_type": "code",
   "execution_count": null,
   "id": "db87ce43",
   "metadata": {},
   "outputs": [],
   "source": [
    "%%writefile prnorms.py\n",
    "# This short script will grab the min/max files from the norms\n",
    "# that carpetx generates during the run\n",
    "import os\n",
    "for i in range(1000):\n",
    "    fname = \"../Cactus/wave2d/norms.it%08d.tsv\" % i\n",
    "    if not os.path.exists(fname):\n",
    "        continue\n",
    "    with open(fname, \"r\") as fd:\n",
    "        for line in fd.readlines():\n",
    "            cols = line.split('\\t')\n",
    "            it = cols[0]\n",
    "            tm = cols[1]\n",
    "            vn = cols[2]\n",
    "            mn = cols[3]\n",
    "            mx = cols[4]\n",
    "            if 'uuGF' in vn:\n",
    "                print(it,tm,vn,mn,mx)"
   ]
  },
  {
   "cell_type": "code",
   "execution_count": null,
   "id": "056baa70",
   "metadata": {},
   "outputs": [],
   "source": [
    "# It's clear that the large values at the boundary in the openPMD output are not real.\n",
    "!python3 prnorms.py"
   ]
  },
  {
   "cell_type": "markdown",
   "id": "6fbedb72",
   "metadata": {},
   "source": [
    "Exercises:\n",
    "\n",
    "(1) Change the FD order from 4 to 6 and regenerate the plots\n",
    "\n",
    "(2) The equation we evolved was\n",
    "\n",
    "$\\frac{\\partial}{\\partial_t} u = v$\n",
    "\n",
    "$\\frac{\\partial}{\\partial_t} v = c^2 \\left(\\frac{\\partial^2}{\\partial^2_x} u + \\frac{\\partial^2}{\\partial^2_y} u \\right)$\n",
    "\n",
    "Modify the second equation to look like this:\n",
    "\n",
    "$\\frac{\\partial}{\\partial_t} v = c^2 \\left(\\frac{\\partial^2}{\\partial^2_x} u + \\frac{\\partial^2}{\\partial^2_y} u \\right) + \\frac{\\partial}{\\partial_x} u$\n",
    "\n",
    "(3) Try changing the initial data from\n",
    "\n",
    "$\\cos\\left(k (x-x_0)\\right)^2 \\cos\\left(k (y-y_0)\\right)^2$\n",
    "\n",
    "to\n",
    "\n",
    "\n",
    "$\\cos\\left(k (x-x_0)\\right)^2 \\cos\\left(2 k (y-y_0)\\right)^2$"
   ]
  },
  {
   "cell_type": "code",
   "execution_count": null,
   "id": "0495713b",
   "metadata": {},
   "outputs": [],
   "source": []
  }
 ],
 "metadata": {
  "kernelspec": {
   "display_name": "Python 3 (ipykernel)",
   "language": "python",
   "name": "python3"
  },
  "language_info": {
   "codemirror_mode": {
    "name": "ipython",
    "version": 3
   },
   "file_extension": ".py",
   "mimetype": "text/x-python",
   "name": "python",
   "nbconvert_exporter": "python",
   "pygments_lexer": "ipython3",
   "version": "3.8.10"
  }
 },
 "nbformat": 4,
 "nbformat_minor": 5
}
