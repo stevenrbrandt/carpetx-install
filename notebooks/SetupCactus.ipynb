{
 "cells": [
  {
   "cell_type": "code",
   "execution_count": null,
   "id": "ee0f7fa1",
   "metadata": {},
   "outputs": [],
   "source": [
    "#Setup the notebook...\n",
    "\n",
    "# this allows you to use \"cd\" in cells to change directories instead of requiring \"%cd\"\n",
    "%automagic on\n",
    "\n",
    "# override IPython's default %%bash to not buffer all output\n",
    "from IPython.core.magic import register_cell_magic\n",
    "@register_cell_magic\n",
    "def bash(line, cell): get_ipython().system(cell)\n",
    "    \n",
    "# Scroll to bottom when there's long output\n",
    "import scrolldown\n",
    "\n",
    "# Make sure the USER variable is set correctly\n",
    "import pwd\n",
    "import os\n",
    "os.environ[\"USER\"]=pwd.getpwuid(os.getuid()).pw_name"
   ]
  },
  {
   "cell_type": "code",
   "execution_count": null,
   "id": "51225b7e",
   "metadata": {},
   "outputs": [],
   "source": [
    "cd ~/"
   ]
  },
  {
   "cell_type": "code",
   "execution_count": null,
   "id": "b74d3bf8",
   "metadata": {},
   "outputs": [],
   "source": [
    "!unzip -o /home/jovyan/Cactus.zip"
   ]
  },
  {
   "cell_type": "code",
   "execution_count": null,
   "id": "13d3a24d",
   "metadata": {},
   "outputs": [],
   "source": [
    "cd ~/Cactus"
   ]
  },
  {
   "cell_type": "code",
   "execution_count": null,
   "id": "b832cb02",
   "metadata": {},
   "outputs": [],
   "source": [
    "!build-gpu.sh"
   ]
  },
  {
   "cell_type": "code",
   "execution_count": null,
   "id": "4195248e",
   "metadata": {},
   "outputs": [],
   "source": []
  }
 ],
 "metadata": {
  "kernelspec": {
   "display_name": "Python 3 (ipykernel)",
   "language": "python",
   "name": "python3"
  },
  "language_info": {
   "codemirror_mode": {
    "name": "ipython",
    "version": 3
   },
   "file_extension": ".py",
   "mimetype": "text/x-python",
   "name": "python",
   "nbconvert_exporter": "python",
   "pygments_lexer": "ipython3",
   "version": "3.8.10"
  }
 },
 "nbformat": 4,
 "nbformat_minor": 5
}
