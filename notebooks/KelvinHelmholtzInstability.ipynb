{
 "cells": [
  {
   "cell_type": "markdown",
   "metadata": {},
   "source": [
    "# Kelvin-Helmholtz Instability test\n",
    "\n",
    "In this notebook, we will run the Kelvin-Helmholtz Instability test with AsterX, and visualize the data saved in OpenPMD format. For further info about OpenPMD, please visit:\n",
    "\n",
    "- Official website:  https://www.openpmd.org\n",
    "- GitHub repository: https://github.com/openPMD\n",
    "- Documentation:     https://openpmd-api.readthedocs.io"
   ]
  },
  {
   "cell_type": "markdown",
   "metadata": {},
   "source": [
    "# 1. Steps to run the KHI simulation"
   ]
  },
  {
   "cell_type": "markdown",
   "metadata": {},
   "source": [
    "Move to the Cactus folder"
   ]
  },
  {
   "cell_type": "code",
   "execution_count": null,
   "metadata": {},
   "outputs": [],
   "source": [
    "cd ~/Cactus"
   ]
  },
  {
   "cell_type": "markdown",
   "metadata": {},
   "source": [
    "Submit the simulation using the following command:"
   ]
  },
  {
   "cell_type": "code",
   "execution_count": null,
   "metadata": {},
   "outputs": [],
   "source": [
    "./simfactory/bin/sim submit KHI --parfile=./arrangements/KHInitial/par/KHI.par --config=sim-gpu --procs=1 --walltime=1:00:00"
   ]
  },
  {
   "cell_type": "markdown",
   "metadata": {},
   "source": [
    "The above command creates and submits the simulation \"KHI\", using the configuration \"sim-gpu\". The simulation uses 1 GPU and will run for a total time of 1h. The data is saved in the  directory \"/root/simulations/KHI\"."
   ]
  },
  {
   "cell_type": "markdown",
   "metadata": {},
   "source": [
    "# 2. Steps to visualize simulation data"
   ]
  },
  {
   "cell_type": "markdown",
   "metadata": {},
   "source": [
    "Import all the modules needed:"
   ]
  },
  {
   "cell_type": "code",
   "execution_count": null,
   "metadata": {},
   "outputs": [],
   "source": [
    "import numpy as np\n",
    "from matplotlib import pyplot as plt\n",
    "from celluloid import Camera\n",
    "import openpmd_api as io"
   ]
  },
  {
   "cell_type": "markdown",
   "metadata": {},
   "source": [
    "Set the Matplotlib backend to `notebook`, not `inline`, since we'll want to animate some figures and the latter is not compatible with that"
   ]
  },
  {
   "cell_type": "code",
   "execution_count": null,
   "metadata": {},
   "outputs": [],
   "source": [
    "%matplotlib notebook"
   ]
  },
  {
   "cell_type": "markdown",
   "metadata": {},
   "source": [
    "Open a .bp file (ADIOS2 extension) as an OpenPMD **'series'**, which is a collection of **'iterations'**, each of which contains **'records'**, which are sets of either structured data --- **'meshes'** --- or unstructured data --- **'particles'**; AsterX only outputs mesh data. Each record has one or more **'components'**: for example, a record representing a scalar field only has one component, while a record representing a vector field has three."
   ]
  },
  {
   "cell_type": "code",
   "execution_count": null,
   "metadata": {},
   "outputs": [],
   "source": [
    "series = io.Series(\"/root/simulations/KHI/output-0000/KHI/KHI.it%08T.bp\", io.Access.read_only)"
   ]
  },
  {
   "cell_type": "markdown",
   "metadata": {},
   "source": [
    "All iterations in our series have the same structure --- i.e., they contain\n",
    "the same records --- since they all represent the same output, just at\n",
    "different times. Here we define an empty Python nested dictionary whose\n",
    "structure, once full, will be:\n",
    "\n",
    "Iteration 0:\n",
    "- Record 1:\n",
    "  - Component 1: 3D data array\n",
    "  - Component 2: 3D data array\n",
    "  - Component 3: 3D data array\n",
    "- Record 2:\n",
    "  - Component 1: 3D data array\n",
    "  - Component 2: 3D data array\n",
    "  - Component 3: 3D data array\n",
    "  \n",
    " [...]\n",
    "\n",
    "Iteration 1:\n",
    "- Record 1:\n",
    "  - Component 1: 3D data array\n",
    "  - Component 2: 3D data array\n",
    "  - Component 3: 3D data array\n",
    "- Record 2:\n",
    "  - Component 1: 3D data array\n",
    "  - Component 2: 3D data array\n",
    "  - Component 3: 3D data array\n",
    "  \n",
    " [...]\n",
    "\n",
    "[...]"
   ]
  },
  {
   "cell_type": "code",
   "execution_count": null,
   "metadata": {},
   "outputs": [],
   "source": [
    "iter_rec_comp_dict = {}"
   ]
  },
  {
   "cell_type": "markdown",
   "metadata": {},
   "source": [
    "Print info, register data chunks and fill the above dictionary:"
   ]
  },
  {
   "cell_type": "code",
   "execution_count": null,
   "metadata": {},
   "outputs": [],
   "source": [
    "for index in series.iterations:\n",
    "    iteration = str(index)\n",
    "\n",
    "    print(\"\\nIteration \" + iteration + \":\")\n",
    "    print(\"==============\")\n",
    "\n",
    "    # Allocate an empty dictionary associated to this iteration\n",
    "    iter_rec_comp_dict[iteration] = {}\n",
    "\n",
    "    i = series.iterations[index]\n",
    "\n",
    "    for key in i.meshes:\n",
    "        print(\"Components of record \\\"\" + key + \"\\\":\")\n",
    "\n",
    "        # Allocate an empty dictionary associated to this record. Notice that\n",
    "        # 'record' is an OpenPMD mesh object, so it's better to use 'key'\n",
    "        # instead of 'record' as a key in the dictionary ('record' could also be\n",
    "        # used, but it makes accessing the key clumsy).\n",
    "        record = i.meshes[key]\n",
    "        iter_rec_comp_dict[iteration][key] = {}\n",
    "\n",
    "        # Load each component of each record as a 'data chunk', i.e., an\n",
    "        # allocated, but STILL INVALID, NumPy array. Later we will flush all\n",
    "        # chunks (i.e., basically, fill the NumPy arrays) at once: this leads\n",
    "        # to better I/O performance compared to flushing a large number of\n",
    "        # small chunks. That's why we bothered creating the nested dictionary:\n",
    "        # in this way, we can access the valid NumPy arrays for plotting\n",
    "        # without having to flush each single chunk.\n",
    "        # *IMPORTANT*: DO NOT access data chunks until flushing has happened!\n",
    "        for component in record:\n",
    "            print(\"    > \" + component)  # 'component' is a string\n",
    "            iter_rec_comp_dict[iteration][key][component] = record[component].load_chunk()  # *INVALID* 3D NumPy array\n",
    "\n",
    "        print(\"\")"
   ]
  },
  {
   "cell_type": "markdown",
   "metadata": {},
   "source": [
    "Flush all registered data chunks, which are now **VALID** 3D NumPy arrays:"
   ]
  },
  {
   "cell_type": "code",
   "execution_count": null,
   "metadata": {},
   "outputs": [],
   "source": [
    "series.flush()"
   ]
  },
  {
   "cell_type": "markdown",
   "metadata": {},
   "source": [
    "Visualize a 2D movie of the mass density on an (x, z) slice of the domain"
   ]
  },
  {
   "cell_type": "code",
   "execution_count": null,
   "metadata": {
    "scrolled": true
   },
   "outputs": [],
   "source": [
    "# Select the desired record and component to plot\n",
    "record    = \"hydrobase_rho_rl00\"  # \"carpetx_regrid_error_rl00\", \"hydrobase_eps_rl00\", \"hydrobase_press_rl00\", \"hydrobase_rho_rl00\", \"hydrobase_vel_rl00\"\n",
    "component = \"hydrobase_rho\"  # \"carpetx_regrid_error\", \"hydrobase_eps\", \"hydrobase_press\", \"hydrobase_rho\", \"hydrobase_velx\", \"hydrobase_vely\", \"hydrobase_velz\"\n",
    "\n",
    "# Set up the axes for the plot and the colorbar\n",
    "fig    = plt.figure(figsize = [9., 4.5])\n",
    "axplot = fig.add_axes([0.07, 0.14, 0.82, 0.76])\n",
    "axclb  = fig.add_axes([0.92, 0.14, 0.02, 0.75])\n",
    "\n",
    "# Set title and labels\n",
    "axplot.set_title(component, fontsize = 18., fontweight = \"bold\", color = \"midnightblue\")\n",
    "axplot.set_xlabel(\"x [arb. units]\", fontsize = 15.)\n",
    "axplot.set_ylabel(\"z [arb. units]\", fontsize = 15.)\n",
    "\n",
    "# Initialize the camera\n",
    "camera = Camera(fig)\n",
    "\n",
    "# Print frames\n",
    "for iteration in iter_rec_comp_dict:\n",
    "    # Retrieve the 3D array containing the data\n",
    "    array3D = iter_rec_comp_dict[iteration][record][component]\n",
    "    \n",
    "    # Plot on the (x, y) plane at the half-way value of z\n",
    "    # (z index = int(array3D.shape[1]/2) )\n",
    "    # Notice that the 3D array is stored in (z, y, x) order\n",
    "    z_index = int(array3D.shape[0]/2)\n",
    "    image   = axplot.pcolormesh(array3D[z_index, :, :],\n",
    "                                cmap = \"inferno\", vmin = 0.4, vmax = 2.5)\n",
    "                                ##vmin = np.min(data_xz), vmax = np.max(data_xz))\n",
    "\n",
    "    # Set up the colorbar\n",
    "    fig.colorbar(image, cax = axclb, extend = \"neither\")\n",
    "    \n",
    "    # Print the current iteration\n",
    "    fig.text(0.65, 0.72, \"Iteration \" + iteration,\n",
    "             fontsize = 15., fontweight = \"bold\", color = \"white\")\n",
    "\n",
    "    # Take a snapshot of the figure at this iteration (needed later for the animation)\n",
    "    camera.snap()"
   ]
  },
  {
   "cell_type": "code",
   "execution_count": null,
   "metadata": {},
   "outputs": [],
   "source": [
    "animation = camera.animate()\n",
    "plt.show()"
   ]
  }
 ],
 "metadata": {
  "kernelspec": {
   "display_name": "Python 3",
   "language": "python",
   "name": "python3"
  },
  "language_info": {
   "codemirror_mode": {
    "name": "ipython",
    "version": 3
   },
   "file_extension": ".py",
   "mimetype": "text/x-python",
   "name": "python",
   "nbconvert_exporter": "python",
   "pygments_lexer": "ipython3",
   "version": "3.8.5"
  }
 },
 "nbformat": 4,
 "nbformat_minor": 5
}
