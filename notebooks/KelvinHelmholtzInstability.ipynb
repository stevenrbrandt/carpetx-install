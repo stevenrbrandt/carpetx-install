{
 "cells": [
  {
   "cell_type": "markdown",
   "metadata": {},
   "source": [
    "# Kelvin-Helmholtz Instability test\n",
    "\n",
    "Here, we will perform the Kelvin-Helmholtz Instability test with AsterX, and visualize the data saved in OpenPMD format. \n",
    "\n",
    "### Background\n",
    "Kelvin-Helmholtz instability (KHI) is an instability which can develop across fluid interfaces in the presence of a tangential shear flow, resulting in the production of fluid turbulences (imagine vortex-like structures).  In numerical simulations of certain astrophysical scenarios, it is crucial to accurately capture such instability effects as they can have critical implications on the dynamics of the system. For instance, KHI driven turbulences (of length scales ranging from few cm to hundreds of meters) generated in binary neutron star mergers play a significant role in the amplification of magnetic fields.\n",
    "\n",
    "### Test setup\n",
    "For the numerical test, KHI simulations can be based on a temporal or a spatial approach. In the temporal case, the fluid flow is considered in a box with periodic (cyclic) boundary conditions,  \"moving\" with an average speed (absolute instability). In the latter case, simulations mimic a lab experiment with natural inlet and outlet conditions (convective instability).\n",
    "\n",
    "- This test, performed in 2D, adopts the setup from Springel 2010 (see, for instance, Section 8.7 of https://arxiv.org/abs/0901.4107 for further details).\n",
    "\n",
    "\n",
    "- Initial values of density $\\rho$, 3-velocities ($v^x, v^y, v^z$) and pressure $P$ are set using the thorn \n",
    "```KHInitial``` :\n",
    "    - Grid domain is $[0,1]^2$ with periodic conditions along x. \n",
    "    - $\\rho = 2.0$, $v^x=+0.5$ within the strip $|y − 0.5| < 0.25$.\n",
    "    - $\\rho = 1.0$, $v^x=-0.5$, elsewhere. $v^z=0$ everywhere.\n",
    "    - Gas pressure $P=2.5$ everywhere with $\\Gamma=5/3$. \n",
    "    \n",
    " This gives two contact discontinuities or *slip surfaces*.\n",
    "\n",
    "\n",
    "- To induce the instability, we excite a single mode with wavelength equal to half the domain size by perturbing $v^y$, given by the expression:\n",
    "\n",
    " $v^y = w_0 * sin(4 \\pi x) * \\Big(\\exp\\big(\\frac{-(y - 0.25)^2} {2 \\sigma^2}\\big) + \\exp \\big(\\frac{-(y + 0.25)^2}{ 2 \\sigma^2}\\big)\\Big)$\n",
    "  \n",
    "  where we set $w_0=0.1$, and $\\sigma=0.05/\\sqrt{2}$.\n",
    "                    \n"
   ]
  },
  {
   "cell_type": "markdown",
   "metadata": {},
   "source": [
    "## 1. Steps to perform the simulation"
   ]
  },
  {
   "cell_type": "markdown",
   "metadata": {},
   "source": [
    "The parameter file used for this simulation is located within the par directory of the ```KHInitial``` thorn. Let's look at its content first:\n",
    "<blockquote>\n",
    "\n",
    "```\n",
    "ActiveThorns = \"\n",
    "    ADIOS2\n",
    "    ADMBase\n",
    "    AsterX\n",
    "    CarpetX\n",
    "    HydroBase\n",
    "    IOUtil\n",
    "    KHInitial\n",
    "    ODESolvers\n",
    "    SystemTopology\n",
    "    TimerReport\n",
    "    TmunuBase\n",
    "    openPMD\n",
    "\"\n",
    "$nlevels = 1\n",
    "$ncells = 256\n",
    "\n",
    "CarpetX::verbose = no\n",
    "\n",
    "Cactus::presync_mode = \"mixed-error\"\n",
    "CarpetX::poison_undefined_values = no\n",
    "\n",
    "CarpetX::xmin = -0.5\n",
    "CarpetX::ymin = -0.5\n",
    "CarpetX::zmin = -0.5 * 2 / $ncells\n",
    "\n",
    "CarpetX::xmax = 0.5\n",
    "CarpetX::ymax = 0.5\n",
    "CarpetX::zmax = 0.5 * 2 / $ncells\n",
    "\n",
    "CarpetX::ncells_x = $ncells\n",
    "CarpetX::ncells_y = $ncells\n",
    "CarpetX::ncells_z = 2\n",
    "CarpetX::blocking_factor_z = 2\n",
    "\n",
    "CarpetX::periodic_x = yes\n",
    "CarpetX::von_neumann_y = yes\n",
    "CarpetX::von_neumann_z = yes\n",
    "CarpetX::von_neumann_upper_y = yes\n",
    "CarpetX::von_neumann_upper_z = yes\n",
    "\n",
    "CarpetX::max_num_levels = $nlevels\n",
    "CarpetX::regrid_every = 10\n",
    "CarpetX::regrid_error_threshold = 0.01\n",
    "\n",
    "CarpetX::prolongation_type = \"ddf\"\n",
    "CarpetX::ghost_size = 2\n",
    "CarpetX::dtfac = 0.5\n",
    "\n",
    "ADMBase::set_adm_variables_during_evolution = yes\n",
    "ADMBase::initial_data = \"Cartesian Minkowski\"\n",
    "ADMBase::initial_lapse = \"one\"\n",
    "ADMBase::initial_shift = \"zero\"\n",
    "ADMBase::initial_dtlapse = \"none\"\n",
    "ADMBase::initial_dtshift = \"none\"\n",
    "\n",
    "HydroBase::initial_hydro = \"KHI\"\n",
    "KHInitial::gamma = 1.6667\n",
    "KHInitial::w0 = 0.1\n",
    "KHInitial::sigma = 0.0353553390593274   # 0.05/sqrt(2)\n",
    "KHInitial::rhoUp = 1.0\n",
    "KHInitial::vxUp = -0.5\n",
    "KHInitial::rhoLow = 2.0\n",
    "KHInitial::vxLow = 0.5\n",
    "KHInitial::p_val= 2.5\n",
    "\n",
    "AsterX::gamma = 1.6667\n",
    "AsterX::reconstruction_method = \"minmod\"\n",
    "AsterX::max_iter = 100\n",
    "\n",
    "Cactus::terminate = \"time\"\n",
    "Cactus::cctk_final_time = 2.0\n",
    "ODESolvers::method = \"RK4\"\n",
    "\n",
    "IO::out_dir = $parfile\n",
    "IO::out_every = 50\n",
    "CarpetX::out_silo_vars = \"\n",
    "    HydroBase::rho\n",
    "    HydroBase::vel\n",
    "    HydroBase::eps\n",
    "    HydroBase::press\n",
    "    CarpetX::regrid_error\n",
    "\"\n",
    "\n",
    "CarpetX::out_openpmd_vars = \"\n",
    "    HydroBase::rho\n",
    "    HydroBase::vel\n",
    "    HydroBase::eps\n",
    "    HydroBase::press\n",
    "    CarpetX::regrid_error\n",
    "\"\n",
    "\n",
    "TimerReport::out_every = 100\n",
    "TimerReport::out_filename = \"TimerReport\"\n",
    "TimerReport::output_all_timers_together = yes\n",
    "TimerReport::output_all_timers_readable = yes\n",
    "TimerReport::n_top_timers = 50\n",
    "```"
   ]
  },
  {
   "cell_type": "markdown",
   "metadata": {},
   "source": [
    "Now, let's first move to the Cactus folder"
   ]
  },
  {
   "cell_type": "code",
   "execution_count": null,
   "metadata": {},
   "outputs": [],
   "source": [
    "cd ~/Cactus"
   ]
  },
  {
   "cell_type": "markdown",
   "metadata": {},
   "source": [
    "Then, submit the simulation using the following command:"
   ]
  },
  {
   "cell_type": "code",
   "execution_count": null,
   "metadata": {},
   "outputs": [],
   "source": [
    "!./simfactory/bin/sim submit KHI --parfile=./arrangements/CarpetX/KHInitial/par/KHI.par --config=sim-gpu --procs=1 --walltime=00:20:00"
   ]
  },
  {
   "cell_type": "markdown",
   "metadata": {},
   "source": [
    "The above command creates and runs the simulation ```KHI```, using the configuration ```sim-gpu```. The data is saved in the directory ```./simulations/KHI```.\n",
    "\n"
   ]
  },
  {
   "cell_type": "markdown",
   "metadata": {},
   "source": [
    "## 2. Steps to visualize simulation data\n",
    "\n",
    "The 2D data is saved in both Silo format (which can be visualised, for instance, via VisIt) and in OpenPMD format. \n",
    "\n",
    "For further info on Silo, please visit: https://wci.llnl.gov/simulation/computer-codes/silo\n",
    "\n",
    "For further info about OpenPMD, please visit:\n",
    "\n",
    "- Official website:  https://www.openpmd.org\n",
    "- GitHub repository: https://github.com/openPMD\n",
    "- Documentation:     https://openpmd-api.readthedocs.io"
   ]
  },
  {
   "cell_type": "markdown",
   "metadata": {},
   "source": [
    "Now, let's go back to the home directory:"
   ]
  },
  {
   "cell_type": "code",
   "execution_count": null,
   "metadata": {},
   "outputs": [],
   "source": [
    "cd ~/"
   ]
  },
  {
   "cell_type": "markdown",
   "metadata": {},
   "source": [
    "Import all the required modules:"
   ]
  },
  {
   "cell_type": "code",
   "execution_count": null,
   "metadata": {},
   "outputs": [],
   "source": [
    "import numpy as np\n",
    "from matplotlib import pyplot as plt\n",
    "from celluloid import Camera\n",
    "import openpmd_api as io"
   ]
  },
  {
   "cell_type": "markdown",
   "metadata": {},
   "source": [
    "Set the Matplotlib backend to `notebook`, not `inline`, since we'll want to animate some figures and the latter is not compatible with that"
   ]
  },
  {
   "cell_type": "code",
   "execution_count": null,
   "metadata": {},
   "outputs": [],
   "source": [
    "%matplotlib notebook"
   ]
  },
  {
   "cell_type": "markdown",
   "metadata": {},
   "source": [
    "Open a .bp file (ADIOS2 extension) as an OpenPMD **'series'**, which is a collection of **'iterations'**, each of which contains **'records'**, which are sets of either structured data --- **'meshes'** --- or unstructured data --- **'particles'**; AsterX only outputs mesh data. Each record has one or more **'components'**: for example, a record representing a scalar field only has one component, while a record representing a vector field has three."
   ]
  },
  {
   "cell_type": "code",
   "execution_count": null,
   "metadata": {},
   "outputs": [],
   "source": [
    "series = io.Series(\"./simulations/KHI/output-0000/KHI/KHI.it%08T.bp\", io.Access.read_only)"
   ]
  },
  {
   "cell_type": "markdown",
   "metadata": {},
   "source": [
    "All iterations in our series have the same structure --- i.e., they contain\n",
    "the same records --- since they all represent the same output, just at\n",
    "different times. Here we define an empty Python nested dictionary whose\n",
    "structure, once full, will be:\n",
    "\n",
    "Iteration 0:\n",
    "- Record 1:\n",
    "  - Component 1: 3D data array\n",
    "  - Component 2: 3D data array\n",
    "  - Component 3: 3D data array\n",
    "- Record 2:\n",
    "  - Component 1: 3D data array\n",
    "  - Component 2: 3D data array\n",
    "  - Component 3: 3D data array\n",
    "  \n",
    " [...]\n",
    "\n",
    "Iteration 1:\n",
    "- Record 1:\n",
    "  - Component 1: 3D data array\n",
    "  - Component 2: 3D data array\n",
    "  - Component 3: 3D data array\n",
    "- Record 2:\n",
    "  - Component 1: 3D data array\n",
    "  - Component 2: 3D data array\n",
    "  - Component 3: 3D data array\n",
    "  \n",
    " [...]\n",
    "\n",
    "[...]"
   ]
  },
  {
   "cell_type": "code",
   "execution_count": null,
   "metadata": {},
   "outputs": [],
   "source": [
    "iter_rec_comp_dict = {}"
   ]
  },
  {
   "cell_type": "markdown",
   "metadata": {},
   "source": [
    "Print info, register data chunks and fill the above dictionary:"
   ]
  },
  {
   "cell_type": "code",
   "execution_count": null,
   "metadata": {},
   "outputs": [],
   "source": [
    "for index in series.iterations:\n",
    "    iteration = str(index)\n",
    "\n",
    "    print(\"\\nIteration \" + iteration + \":\")\n",
    "    print(\"==============\")\n",
    "\n",
    "    # Allocate an empty dictionary associated to this iteration\n",
    "    iter_rec_comp_dict[iteration] = {}\n",
    "\n",
    "    i = series.iterations[index]\n",
    "\n",
    "    for key in i.meshes:\n",
    "        print(\"Components of record \\\"\" + key + \"\\\":\")\n",
    "\n",
    "        # Allocate an empty dictionary associated to this record. Notice that\n",
    "        # 'record' is an OpenPMD mesh object, so it's better to use 'key'\n",
    "        # instead of 'record' as a key in the dictionary ('record' could also be\n",
    "        # used, but it makes accessing the key clumsy).\n",
    "        record = i.meshes[key]\n",
    "        iter_rec_comp_dict[iteration][key] = {}\n",
    "\n",
    "        # Load each component of each record as a 'data chunk', i.e., an\n",
    "        # allocated, but STILL INVALID, NumPy array. Later we will flush all\n",
    "        # chunks (i.e., basically, fill the NumPy arrays) at once: this leads\n",
    "        # to better I/O performance compared to flushing a large number of\n",
    "        # small chunks. That's why we bothered creating the nested dictionary:\n",
    "        # in this way, we can access the valid NumPy arrays for plotting\n",
    "        # without having to flush each single chunk.\n",
    "        # *IMPORTANT*: DO NOT access data chunks until flushing has happened!\n",
    "        for component in record:\n",
    "            print(\"    > \" + component)  # 'component' is a string\n",
    "            iter_rec_comp_dict[iteration][key][component] = record[component].load_chunk()  # *INVALID* 3D NumPy array\n",
    "\n",
    "        print(\"\")"
   ]
  },
  {
   "cell_type": "markdown",
   "metadata": {},
   "source": [
    "Flush all registered data chunks, which are now **VALID** 3D NumPy arrays:"
   ]
  },
  {
   "cell_type": "code",
   "execution_count": null,
   "metadata": {},
   "outputs": [],
   "source": [
    "series.flush()"
   ]
  },
  {
   "cell_type": "markdown",
   "metadata": {},
   "source": [
    "Visualize a 2D movie of the mass density on an (x, z) slice of the domain"
   ]
  },
  {
   "cell_type": "code",
   "execution_count": null,
   "metadata": {
    "scrolled": true
   },
   "outputs": [],
   "source": [
    "# Select the desired record and component to plot\n",
    "record    = \"hydrobase_rho_rl00\"  # \"carpetx_regrid_error_rl00\", \"hydrobase_eps_rl00\", \"hydrobase_press_rl00\", \"hydrobase_rho_rl00\", \"hydrobase_vel_rl00\"\n",
    "component = \"hydrobase_rho\"  # \"carpetx_regrid_error\", \"hydrobase_eps\", \"hydrobase_press\", \"hydrobase_rho\", \"hydrobase_velx\", \"hydrobase_vely\", \"hydrobase_velz\"\n",
    "\n",
    "# Set up the axes for the plot and the colorbar\n",
    "fig    = plt.figure(figsize = [9., 4.5])\n",
    "axplot = fig.add_axes([0.07, 0.14, 0.82, 0.76])\n",
    "axclb  = fig.add_axes([0.92, 0.14, 0.02, 0.75])\n",
    "\n",
    "# Set title and labels\n",
    "axplot.set_title(component, fontsize = 18., fontweight = \"bold\", color = \"midnightblue\")\n",
    "axplot.set_xlabel(\"x [arb. units]\", fontsize = 15.)\n",
    "axplot.set_ylabel(\"z [arb. units]\", fontsize = 15.)\n",
    "\n",
    "# Initialize the camera\n",
    "camera = Camera(fig)\n",
    "\n",
    "# Print frames\n",
    "for iteration in iter_rec_comp_dict:\n",
    "    # Retrieve the 3D array containing the data\n",
    "    array3D = iter_rec_comp_dict[iteration][record][component]\n",
    "    \n",
    "    # Plot on the (x, y) plane at the half-way value of z\n",
    "    # (z index = int(array3D.shape[1]/2) )\n",
    "    # Notice that the 3D array is stored in (z, y, x) order\n",
    "    z_index = int(array3D.shape[0]/2)\n",
    "    image   = axplot.pcolormesh(array3D[z_index, :, :],\n",
    "                                cmap = \"magma\", vmin = 0.4, vmax = 2.5)\n",
    "                                ##vmin = np.min(data_xz), vmax = np.max(data_xz))\n",
    "\n",
    "    # Set up the colorbar\n",
    "    fig.colorbar(image, cax = axclb, extend = \"neither\")\n",
    "    \n",
    "    # Print the current iteration\n",
    "    #fig.text(0.65, 0.72, \"Iteration \" + iteration,\n",
    "    #         fontsize = 15., fontweight = \"bold\", color = \"white\")\n",
    "\n",
    "    # Take a snapshot of the figure at this iteration (needed later for the animation)\n",
    "    camera.snap()"
   ]
  },
  {
   "cell_type": "code",
   "execution_count": null,
   "metadata": {},
   "outputs": [],
   "source": [
    "animation = camera.animate()\n",
    "plt.show()"
   ]
  }
 ],
 "metadata": {
  "kernelspec": {
   "display_name": "Python 3",
   "language": "python",
   "name": "python3"
  },
  "language_info": {
   "codemirror_mode": {
    "name": "ipython",
    "version": 3
   },
   "file_extension": ".py",
   "mimetype": "text/x-python",
   "name": "python",
   "nbconvert_exporter": "python",
   "pygments_lexer": "ipython3",
   "version": "3.8.5"
  }
 },
 "nbformat": 4,
 "nbformat_minor": 5
}
